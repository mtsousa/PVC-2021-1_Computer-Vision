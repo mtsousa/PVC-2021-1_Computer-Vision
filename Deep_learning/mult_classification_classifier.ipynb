{
 "cells": [
  {
   "cell_type": "code",
   "execution_count": 3,
   "metadata": {
    "executionInfo": {
     "elapsed": 243,
     "status": "ok",
     "timestamp": 1621898384356,
     "user": {
      "displayName": "Matheus Teixeira",
      "photoUrl": "https://lh3.googleusercontent.com/a-/AOh14Ggwb_ISJ25bszRx_ESG0DByVHPSMJ-ZVu8SqBqPTA=s64",
      "userId": "10561622626348784554"
     },
     "user_tz": 180
    },
    "id": "_6vOjk-1sSkT"
   },
   "outputs": [
    {
     "ename": "ImportError",
     "evalue": "cannot import name 'multiprocessing'",
     "output_type": "error",
     "traceback": [
      "\u001b[0;31m---------------------------------------------------------------------------\u001b[0m",
      "\u001b[0;31mImportError\u001b[0m                               Traceback (most recent call last)",
      "\u001b[0;32m<ipython-input-3-d2d29be66561>\u001b[0m in \u001b[0;36m<module>\u001b[0;34m\u001b[0m\n\u001b[0;32m----> 1\u001b[0;31m \u001b[0;32mfrom\u001b[0m \u001b[0mfastai\u001b[0m\u001b[0;34m.\u001b[0m\u001b[0mvision\u001b[0m\u001b[0;34m.\u001b[0m\u001b[0mall\u001b[0m \u001b[0;32mimport\u001b[0m \u001b[0;34m*\u001b[0m\u001b[0;34m\u001b[0m\u001b[0;34m\u001b[0m\u001b[0m\n\u001b[0m\u001b[1;32m      2\u001b[0m \u001b[0;32mfrom\u001b[0m \u001b[0mfastai\u001b[0m\u001b[0;34m.\u001b[0m\u001b[0mvision\u001b[0m\u001b[0;34m.\u001b[0m\u001b[0mwidgets\u001b[0m \u001b[0;32mimport\u001b[0m \u001b[0;34m*\u001b[0m\u001b[0;34m\u001b[0m\u001b[0;34m\u001b[0m\u001b[0m\n",
      "\u001b[0;32m~/.local/lib/python3.6/site-packages/fastai/vision/all.py\u001b[0m in \u001b[0;36m<module>\u001b[0;34m\u001b[0m\n\u001b[0;32m----> 1\u001b[0;31m \u001b[0;32mfrom\u001b[0m \u001b[0;34m.\u001b[0m \u001b[0;32mimport\u001b[0m \u001b[0mmodels\u001b[0m\u001b[0;34m\u001b[0m\u001b[0;34m\u001b[0m\u001b[0m\n\u001b[0m\u001b[1;32m      2\u001b[0m \u001b[0;32mfrom\u001b[0m \u001b[0;34m.\u001b[0m\u001b[0;34m.\u001b[0m\u001b[0mbasics\u001b[0m \u001b[0;32mimport\u001b[0m \u001b[0;34m*\u001b[0m\u001b[0;34m\u001b[0m\u001b[0;34m\u001b[0m\u001b[0m\n\u001b[1;32m      3\u001b[0m \u001b[0;32mfrom\u001b[0m \u001b[0;34m.\u001b[0m\u001b[0;34m.\u001b[0m\u001b[0mcallback\u001b[0m\u001b[0;34m.\u001b[0m\u001b[0mall\u001b[0m \u001b[0;32mimport\u001b[0m \u001b[0;34m*\u001b[0m\u001b[0;34m\u001b[0m\u001b[0;34m\u001b[0m\u001b[0m\n\u001b[1;32m      4\u001b[0m \u001b[0;32mfrom\u001b[0m \u001b[0;34m.\u001b[0m\u001b[0maugment\u001b[0m \u001b[0;32mimport\u001b[0m \u001b[0;34m*\u001b[0m\u001b[0;34m\u001b[0m\u001b[0;34m\u001b[0m\u001b[0m\n\u001b[1;32m      5\u001b[0m \u001b[0;32mfrom\u001b[0m \u001b[0;34m.\u001b[0m\u001b[0mcore\u001b[0m \u001b[0;32mimport\u001b[0m \u001b[0;34m*\u001b[0m\u001b[0;34m\u001b[0m\u001b[0;34m\u001b[0m\u001b[0m\n",
      "\u001b[0;32m~/.local/lib/python3.6/site-packages/fastai/vision/models/__init__.py\u001b[0m in \u001b[0;36m<module>\u001b[0;34m\u001b[0m\n\u001b[0;32m----> 1\u001b[0;31m \u001b[0;32mfrom\u001b[0m \u001b[0;34m.\u001b[0m \u001b[0;32mimport\u001b[0m \u001b[0mxresnet\u001b[0m\u001b[0;34m\u001b[0m\u001b[0;34m\u001b[0m\u001b[0m\n\u001b[0m\u001b[1;32m      2\u001b[0m \u001b[0;32mfrom\u001b[0m \u001b[0;34m.\u001b[0m \u001b[0;32mimport\u001b[0m \u001b[0munet\u001b[0m\u001b[0;34m\u001b[0m\u001b[0;34m\u001b[0m\u001b[0m\n\u001b[1;32m      3\u001b[0m \u001b[0;32mfrom\u001b[0m \u001b[0;34m.\u001b[0m\u001b[0mtvm\u001b[0m \u001b[0;32mimport\u001b[0m \u001b[0;34m*\u001b[0m\u001b[0;34m\u001b[0m\u001b[0;34m\u001b[0m\u001b[0m\n",
      "\u001b[0;32m~/.local/lib/python3.6/site-packages/fastai/vision/models/xresnet.py\u001b[0m in \u001b[0;36m<module>\u001b[0;34m\u001b[0m\n\u001b[1;32m     10\u001b[0m \u001b[0;34m\u001b[0m\u001b[0m\n\u001b[1;32m     11\u001b[0m \u001b[0;31m# Cell\u001b[0m\u001b[0;34m\u001b[0m\u001b[0;34m\u001b[0m\u001b[0;34m\u001b[0m\u001b[0m\n\u001b[0;32m---> 12\u001b[0;31m \u001b[0;32mfrom\u001b[0m \u001b[0;34m...\u001b[0m\u001b[0mtorch_basics\u001b[0m \u001b[0;32mimport\u001b[0m \u001b[0;34m*\u001b[0m\u001b[0;34m\u001b[0m\u001b[0;34m\u001b[0m\u001b[0m\n\u001b[0m\u001b[1;32m     13\u001b[0m \u001b[0;32mfrom\u001b[0m \u001b[0mtorchvision\u001b[0m\u001b[0;34m.\u001b[0m\u001b[0mmodels\u001b[0m\u001b[0;34m.\u001b[0m\u001b[0mutils\u001b[0m \u001b[0;32mimport\u001b[0m \u001b[0mload_state_dict_from_url\u001b[0m\u001b[0;34m\u001b[0m\u001b[0;34m\u001b[0m\u001b[0m\n\u001b[1;32m     14\u001b[0m \u001b[0;34m\u001b[0m\u001b[0m\n",
      "\u001b[0;32m~/.local/lib/python3.6/site-packages/fastai/torch_basics.py\u001b[0m in \u001b[0;36m<module>\u001b[0;34m\u001b[0m\n\u001b[0;32m----> 1\u001b[0;31m \u001b[0;32mfrom\u001b[0m \u001b[0mtorch\u001b[0m \u001b[0;32mimport\u001b[0m \u001b[0mmultiprocessing\u001b[0m\u001b[0;34m\u001b[0m\u001b[0;34m\u001b[0m\u001b[0m\n\u001b[0m\u001b[1;32m      2\u001b[0m \u001b[0;32mimport\u001b[0m \u001b[0mplatform\u001b[0m\u001b[0;34m,\u001b[0m\u001b[0mos\u001b[0m\u001b[0;34m\u001b[0m\u001b[0;34m\u001b[0m\u001b[0m\n\u001b[1;32m      3\u001b[0m \u001b[0;32mif\u001b[0m \u001b[0mplatform\u001b[0m\u001b[0;34m.\u001b[0m\u001b[0msystem\u001b[0m\u001b[0;34m(\u001b[0m\u001b[0;34m)\u001b[0m\u001b[0;34m==\u001b[0m\u001b[0;34m'Darwin'\u001b[0m\u001b[0;34m:\u001b[0m\u001b[0;34m\u001b[0m\u001b[0;34m\u001b[0m\u001b[0m\n\u001b[1;32m      4\u001b[0m     \u001b[0;31m# Python 3.8 changed to 'spawn' but that doesn't work with PyTorch DataLoader w n_workers>0\u001b[0m\u001b[0;34m\u001b[0m\u001b[0;34m\u001b[0m\u001b[0;34m\u001b[0m\u001b[0m\n\u001b[1;32m      5\u001b[0m     \u001b[0mmultiprocessing\u001b[0m\u001b[0;34m.\u001b[0m\u001b[0mset_start_method\u001b[0m\u001b[0;34m(\u001b[0m\u001b[0;34m'fork'\u001b[0m\u001b[0;34m,\u001b[0m \u001b[0mforce\u001b[0m\u001b[0;34m=\u001b[0m\u001b[0;32mTrue\u001b[0m\u001b[0;34m)\u001b[0m\u001b[0;34m\u001b[0m\u001b[0;34m\u001b[0m\u001b[0m\n",
      "\u001b[0;31mImportError\u001b[0m: cannot import name 'multiprocessing'"
     ]
    }
   ],
   "source": [
    "from fastai.vision.all import *\n",
    "from fastai.vision.widgets import *"
   ]
  },
  {
   "cell_type": "code",
   "execution_count": null,
   "metadata": {
    "executionInfo": {
     "elapsed": 3,
     "status": "ok",
     "timestamp": 1621898385346,
     "user": {
      "displayName": "Matheus Teixeira",
      "photoUrl": "https://lh3.googleusercontent.com/a-/AOh14Ggwb_ISJ25bszRx_ESG0DByVHPSMJ-ZVu8SqBqPTA=s64",
      "userId": "10561622626348784554"
     },
     "user_tz": 180
    },
    "id": "WwNf1NWrpKVg"
   },
   "outputs": [],
   "source": [
    "def get_x(r): return path/'train'/r['fname']\n",
    "def get_y(r): return r['labels'].split(' ')"
   ]
  },
  {
   "cell_type": "code",
   "execution_count": null,
   "metadata": {
    "executionInfo": {
     "elapsed": 620,
     "status": "ok",
     "timestamp": 1621898445909,
     "user": {
      "displayName": "Matheus Teixeira",
      "photoUrl": "https://lh3.googleusercontent.com/a-/AOh14Ggwb_ISJ25bszRx_ESG0DByVHPSMJ-ZVu8SqBqPTA=s64",
      "userId": "10561622626348784554"
     },
     "user_tz": 180
    },
    "id": "osdFedXr_Kxg"
   },
   "outputs": [],
   "source": [
    "path = Path()\n",
    "learn_inf = load_learner(path/'nn_desafio5.pkl', cpu=True)\n",
    "btn_upload = widgets.FileUpload()\n",
    "out_pl = widgets.Output()\n",
    "lbl_pred = widgets.Label()\n",
    "btn_run = widgets.Button(description='Classify')"
   ]
  },
  {
   "cell_type": "code",
   "execution_count": null,
   "metadata": {
    "executionInfo": {
     "elapsed": 221,
     "status": "ok",
     "timestamp": 1621898447114,
     "user": {
      "displayName": "Matheus Teixeira",
      "photoUrl": "https://lh3.googleusercontent.com/a-/AOh14Ggwb_ISJ25bszRx_ESG0DByVHPSMJ-ZVu8SqBqPTA=s64",
      "userId": "10561622626348784554"
     },
     "user_tz": 180
    },
    "id": "-xWC63YI9QWU"
   },
   "outputs": [],
   "source": [
    "def predict(pred, pred_idx, probs, lbl_pred):\n",
    "  k = 0\n",
    "  idx = []\n",
    "  for i in pred_idx:\n",
    "    if i == True:\n",
    "      idx.append(k)\n",
    "    k += 1\n",
    "  aux = ''\n",
    "  for i in range(len(idx)):\n",
    "    #hide_output\n",
    "    # lbl_pred = widgets.Label()\n",
    "    if len(idx) == 1:\n",
    "      aux += f'{i+1} - Prediction: {pred[i]}; Probability: {probs[idx[i]]*100:2.2f}'\n",
    "    else:\n",
    "      if i == len(idx)-1:\n",
    "        aux += f'{i+1} - Prediction: {pred[i]}; Probability: {probs[idx[i]]*100:2.2f}'\n",
    "      else:\n",
    "        aux += f'{i+1} - Prediction: {pred[i]}; Probability: {probs[idx[i]]*100:2.2f}; '\n",
    "    # print(lbl_pred.value)\n",
    "\n",
    "  lbl_pred.value = aux"
   ]
  },
  {
   "cell_type": "code",
   "execution_count": null,
   "metadata": {
    "executionInfo": {
     "elapsed": 228,
     "status": "ok",
     "timestamp": 1621898449548,
     "user": {
      "displayName": "Matheus Teixeira",
      "photoUrl": "https://lh3.googleusercontent.com/a-/AOh14Ggwb_ISJ25bszRx_ESG0DByVHPSMJ-ZVu8SqBqPTA=s64",
      "userId": "10561622626348784554"
     },
     "user_tz": 180
    },
    "id": "WMCVbN1ExWPM"
   },
   "outputs": [],
   "source": [
    "def on_click_classify(change):\n",
    "    lbl_pred.value = ''\n",
    "    img = PILImage.create(btn_upload.data[-1])\n",
    "    out_pl.clear_output()\n",
    "    with out_pl: display(img.to_thumb(200, 200))\n",
    "    pred,pred_idx,probs = learn_inf.predict(img)\n",
    "    predict(pred, pred_idx, probs, lbl_pred)\n",
    "btn_run.on_click(on_click_classify)"
   ]
  },
  {
   "cell_type": "code",
   "execution_count": null,
   "metadata": {
    "executionInfo": {
     "elapsed": 240,
     "status": "ok",
     "timestamp": 1621898452361,
     "user": {
      "displayName": "Matheus Teixeira",
      "photoUrl": "https://lh3.googleusercontent.com/a-/AOh14Ggwb_ISJ25bszRx_ESG0DByVHPSMJ-ZVu8SqBqPTA=s64",
      "userId": "10561622626348784554"
     },
     "user_tz": 180
    },
    "id": "W64HiGTFxbGs"
   },
   "outputs": [],
   "source": [
    "#Putting back btn_upload to a widget for next cell\n",
    "btn_upload = widgets.FileUpload()"
   ]
  },
  {
   "cell_type": "code",
   "execution_count": null,
   "metadata": {
    "colab": {
     "base_uri": "https://localhost:8080/",
     "height": 257,
     "referenced_widgets": [
      "828b7bfde8fe40589d0c7485c6e88893",
      "b456f2d0178c4a83b5afd54c36b28883",
      "479c4ce02e404d12af30b91ef726973e",
      "2e6bd15443b54a13901df36ede1bd48d",
      "211339df84664bd7bcd47e2f667feac5",
      "367231af5e2846d1bad3038bea1aad14",
      "55d065aa74c8494e81140686e69fe1b9",
      "47b6255b500248eaa7e2cccb54fbb7d8",
      "cd4207873ead47ddbac893f84d65a94b",
      "d8b516c7f4d64e7a92f86d81761c9aef",
      "db8aa5f25bb7467e9ea1d31d3b33e666",
      "4809bbd8ad194759833f88c4f16ee82a",
      "f10a3f774ff5434c95b9fcb38275f6bd",
      "e9b2e24facce43359dfb257b5ceef80c",
      "d3ceffe3b71d4eb1b22675360816a0d6",
      "9208705b66224d04929a6dfdb0db9873"
     ]
    },
    "executionInfo": {
     "elapsed": 29,
     "status": "ok",
     "timestamp": 1621898453485,
     "user": {
      "displayName": "Matheus Teixeira",
      "photoUrl": "https://lh3.googleusercontent.com/a-/AOh14Ggwb_ISJ25bszRx_ESG0DByVHPSMJ-ZVu8SqBqPTA=s64",
      "userId": "10561622626348784554"
     },
     "user_tz": 180
    },
    "id": "EmdvGxHcxhVb",
    "outputId": "d383c63f-3150-4ecc-909e-7c93c2d04956"
   },
   "outputs": [],
   "source": [
    "#hide_output\n",
    "VBox([widgets.Label('Select your image!'), \n",
    "      btn_upload, btn_run, out_pl, lbl_pred])"
   ]
  }
 ],
 "metadata": {
  "colab": {
   "authorship_tag": "ABX9TyOvG1oGBmubi5BxsghrRu37",
   "name": "prediction.ipynb",
   "provenance": []
  },
  "kernelspec": {
   "display_name": "Python 3",
   "language": "python",
   "name": "python3"
  },
  "language_info": {
   "codemirror_mode": {
    "name": "ipython",
    "version": 3
   },
   "file_extension": ".py",
   "mimetype": "text/x-python",
   "name": "python",
   "nbconvert_exporter": "python",
   "pygments_lexer": "ipython3",
   "version": "3.6.9"
  },
  "widgets": {
   "application/vnd.jupyter.widget-state+json": {
    "211339df84664bd7bcd47e2f667feac5": {
     "model_module": "@jupyter-widgets/controls",
     "model_name": "ButtonModel",
     "state": {
      "_dom_classes": [],
      "_model_module": "@jupyter-widgets/controls",
      "_model_module_version": "1.5.0",
      "_model_name": "ButtonModel",
      "_view_count": null,
      "_view_module": "@jupyter-widgets/controls",
      "_view_module_version": "1.5.0",
      "_view_name": "ButtonView",
      "button_style": "",
      "description": "Classify",
      "disabled": false,
      "icon": "",
      "layout": "IPY_MODEL_f10a3f774ff5434c95b9fcb38275f6bd",
      "style": "IPY_MODEL_4809bbd8ad194759833f88c4f16ee82a",
      "tooltip": ""
     }
    },
    "2e6bd15443b54a13901df36ede1bd48d": {
     "model_module": "@jupyter-widgets/controls",
     "model_name": "FileUploadModel",
     "state": {
      "_counter": 1,
      "_dom_classes": [],
      "_model_module": "@jupyter-widgets/controls",
      "_model_module_version": "1.5.0",
      "_model_name": "FileUploadModel",
      "_view_count": null,
      "_view_module": "@jupyter-widgets/controls",
      "_view_module_version": "1.5.0",
      "_view_name": "FileUploadView",
      "accept": "",
      "button_style": "",
      "data": [
       null
      ],
      "description": "Upload",
      "description_tooltip": null,
      "disabled": false,
      "error": "",
      "icon": "upload",
      "layout": "IPY_MODEL_db8aa5f25bb7467e9ea1d31d3b33e666",
      "metadata": [
       {
        "lastModified": 1621884043932,
        "name": "pessoa_bike.jpg",
        "size": 9707,
        "type": "image/jpeg"
       }
      ],
      "multiple": false,
      "style": "IPY_MODEL_d8b516c7f4d64e7a92f86d81761c9aef"
     }
    },
    "367231af5e2846d1bad3038bea1aad14": {
     "model_module": "@jupyter-widgets/output",
     "model_name": "OutputModel",
     "state": {
      "_dom_classes": [],
      "_model_module": "@jupyter-widgets/output",
      "_model_module_version": "1.0.0",
      "_model_name": "OutputModel",
      "_view_count": null,
      "_view_module": "@jupyter-widgets/output",
      "_view_module_version": "1.0.0",
      "_view_name": "OutputView",
      "layout": "IPY_MODEL_9208705b66224d04929a6dfdb0db9873",
      "msg_id": "",
      "outputs": [
       {
        "image/png": "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\n",
        "metadata": {
         "tags": []
        },
        "output_type": "display_data",
        "text/plain": "<PIL.Image.Image image mode=RGB size=200x112 at 0x7F892C461C50>"
       }
      ]
     }
    },
    "479c4ce02e404d12af30b91ef726973e": {
     "model_module": "@jupyter-widgets/controls",
     "model_name": "LabelModel",
     "state": {
      "_dom_classes": [],
      "_model_module": "@jupyter-widgets/controls",
      "_model_module_version": "1.5.0",
      "_model_name": "LabelModel",
      "_view_count": null,
      "_view_module": "@jupyter-widgets/controls",
      "_view_module_version": "1.5.0",
      "_view_name": "LabelView",
      "description": "",
      "description_tooltip": null,
      "layout": "IPY_MODEL_cd4207873ead47ddbac893f84d65a94b",
      "placeholder": "​",
      "style": "IPY_MODEL_47b6255b500248eaa7e2cccb54fbb7d8",
      "value": "Select your image!"
     }
    },
    "47b6255b500248eaa7e2cccb54fbb7d8": {
     "model_module": "@jupyter-widgets/controls",
     "model_name": "DescriptionStyleModel",
     "state": {
      "_model_module": "@jupyter-widgets/controls",
      "_model_module_version": "1.5.0",
      "_model_name": "DescriptionStyleModel",
      "_view_count": null,
      "_view_module": "@jupyter-widgets/base",
      "_view_module_version": "1.2.0",
      "_view_name": "StyleView",
      "description_width": ""
     }
    },
    "4809bbd8ad194759833f88c4f16ee82a": {
     "model_module": "@jupyter-widgets/controls",
     "model_name": "ButtonStyleModel",
     "state": {
      "_model_module": "@jupyter-widgets/controls",
      "_model_module_version": "1.5.0",
      "_model_name": "ButtonStyleModel",
      "_view_count": null,
      "_view_module": "@jupyter-widgets/base",
      "_view_module_version": "1.2.0",
      "_view_name": "StyleView",
      "button_color": null,
      "font_weight": ""
     }
    },
    "55d065aa74c8494e81140686e69fe1b9": {
     "model_module": "@jupyter-widgets/controls",
     "model_name": "LabelModel",
     "state": {
      "_dom_classes": [],
      "_model_module": "@jupyter-widgets/controls",
      "_model_module_version": "1.5.0",
      "_model_name": "LabelModel",
      "_view_count": null,
      "_view_module": "@jupyter-widgets/controls",
      "_view_module_version": "1.5.0",
      "_view_name": "LabelView",
      "description": "",
      "description_tooltip": null,
      "layout": "IPY_MODEL_d3ceffe3b71d4eb1b22675360816a0d6",
      "placeholder": "​",
      "style": "IPY_MODEL_e9b2e24facce43359dfb257b5ceef80c",
      "value": "1 - Prediction: bicycle; Probability: 99.99; 2 - Prediction: person; Probability: 98.95"
     }
    },
    "828b7bfde8fe40589d0c7485c6e88893": {
     "model_module": "@jupyter-widgets/controls",
     "model_name": "VBoxModel",
     "state": {
      "_dom_classes": [],
      "_model_module": "@jupyter-widgets/controls",
      "_model_module_version": "1.5.0",
      "_model_name": "VBoxModel",
      "_view_count": null,
      "_view_module": "@jupyter-widgets/controls",
      "_view_module_version": "1.5.0",
      "_view_name": "VBoxView",
      "box_style": "",
      "children": [
       "IPY_MODEL_479c4ce02e404d12af30b91ef726973e",
       "IPY_MODEL_2e6bd15443b54a13901df36ede1bd48d",
       "IPY_MODEL_211339df84664bd7bcd47e2f667feac5",
       "IPY_MODEL_367231af5e2846d1bad3038bea1aad14",
       "IPY_MODEL_55d065aa74c8494e81140686e69fe1b9"
      ],
      "layout": "IPY_MODEL_b456f2d0178c4a83b5afd54c36b28883"
     }
    },
    "9208705b66224d04929a6dfdb0db9873": {
     "model_module": "@jupyter-widgets/base",
     "model_name": "LayoutModel",
     "state": {
      "_model_module": "@jupyter-widgets/base",
      "_model_module_version": "1.2.0",
      "_model_name": "LayoutModel",
      "_view_count": null,
      "_view_module": "@jupyter-widgets/base",
      "_view_module_version": "1.2.0",
      "_view_name": "LayoutView",
      "align_content": null,
      "align_items": null,
      "align_self": null,
      "border": null,
      "bottom": null,
      "display": null,
      "flex": null,
      "flex_flow": null,
      "grid_area": null,
      "grid_auto_columns": null,
      "grid_auto_flow": null,
      "grid_auto_rows": null,
      "grid_column": null,
      "grid_gap": null,
      "grid_row": null,
      "grid_template_areas": null,
      "grid_template_columns": null,
      "grid_template_rows": null,
      "height": null,
      "justify_content": null,
      "justify_items": null,
      "left": null,
      "margin": null,
      "max_height": null,
      "max_width": null,
      "min_height": null,
      "min_width": null,
      "object_fit": null,
      "object_position": null,
      "order": null,
      "overflow": null,
      "overflow_x": null,
      "overflow_y": null,
      "padding": null,
      "right": null,
      "top": null,
      "visibility": null,
      "width": null
     }
    },
    "b456f2d0178c4a83b5afd54c36b28883": {
     "model_module": "@jupyter-widgets/base",
     "model_name": "LayoutModel",
     "state": {
      "_model_module": "@jupyter-widgets/base",
      "_model_module_version": "1.2.0",
      "_model_name": "LayoutModel",
      "_view_count": null,
      "_view_module": "@jupyter-widgets/base",
      "_view_module_version": "1.2.0",
      "_view_name": "LayoutView",
      "align_content": null,
      "align_items": null,
      "align_self": null,
      "border": null,
      "bottom": null,
      "display": null,
      "flex": null,
      "flex_flow": null,
      "grid_area": null,
      "grid_auto_columns": null,
      "grid_auto_flow": null,
      "grid_auto_rows": null,
      "grid_column": null,
      "grid_gap": null,
      "grid_row": null,
      "grid_template_areas": null,
      "grid_template_columns": null,
      "grid_template_rows": null,
      "height": null,
      "justify_content": null,
      "justify_items": null,
      "left": null,
      "margin": null,
      "max_height": null,
      "max_width": null,
      "min_height": null,
      "min_width": null,
      "object_fit": null,
      "object_position": null,
      "order": null,
      "overflow": null,
      "overflow_x": null,
      "overflow_y": null,
      "padding": null,
      "right": null,
      "top": null,
      "visibility": null,
      "width": null
     }
    },
    "cd4207873ead47ddbac893f84d65a94b": {
     "model_module": "@jupyter-widgets/base",
     "model_name": "LayoutModel",
     "state": {
      "_model_module": "@jupyter-widgets/base",
      "_model_module_version": "1.2.0",
      "_model_name": "LayoutModel",
      "_view_count": null,
      "_view_module": "@jupyter-widgets/base",
      "_view_module_version": "1.2.0",
      "_view_name": "LayoutView",
      "align_content": null,
      "align_items": null,
      "align_self": null,
      "border": null,
      "bottom": null,
      "display": null,
      "flex": null,
      "flex_flow": null,
      "grid_area": null,
      "grid_auto_columns": null,
      "grid_auto_flow": null,
      "grid_auto_rows": null,
      "grid_column": null,
      "grid_gap": null,
      "grid_row": null,
      "grid_template_areas": null,
      "grid_template_columns": null,
      "grid_template_rows": null,
      "height": null,
      "justify_content": null,
      "justify_items": null,
      "left": null,
      "margin": null,
      "max_height": null,
      "max_width": null,
      "min_height": null,
      "min_width": null,
      "object_fit": null,
      "object_position": null,
      "order": null,
      "overflow": null,
      "overflow_x": null,
      "overflow_y": null,
      "padding": null,
      "right": null,
      "top": null,
      "visibility": null,
      "width": null
     }
    },
    "d3ceffe3b71d4eb1b22675360816a0d6": {
     "model_module": "@jupyter-widgets/base",
     "model_name": "LayoutModel",
     "state": {
      "_model_module": "@jupyter-widgets/base",
      "_model_module_version": "1.2.0",
      "_model_name": "LayoutModel",
      "_view_count": null,
      "_view_module": "@jupyter-widgets/base",
      "_view_module_version": "1.2.0",
      "_view_name": "LayoutView",
      "align_content": null,
      "align_items": null,
      "align_self": null,
      "border": null,
      "bottom": null,
      "display": null,
      "flex": null,
      "flex_flow": null,
      "grid_area": null,
      "grid_auto_columns": null,
      "grid_auto_flow": null,
      "grid_auto_rows": null,
      "grid_column": null,
      "grid_gap": null,
      "grid_row": null,
      "grid_template_areas": null,
      "grid_template_columns": null,
      "grid_template_rows": null,
      "height": null,
      "justify_content": null,
      "justify_items": null,
      "left": null,
      "margin": null,
      "max_height": null,
      "max_width": null,
      "min_height": null,
      "min_width": null,
      "object_fit": null,
      "object_position": null,
      "order": null,
      "overflow": null,
      "overflow_x": null,
      "overflow_y": null,
      "padding": null,
      "right": null,
      "top": null,
      "visibility": null,
      "width": null
     }
    },
    "d8b516c7f4d64e7a92f86d81761c9aef": {
     "model_module": "@jupyter-widgets/controls",
     "model_name": "ButtonStyleModel",
     "state": {
      "_model_module": "@jupyter-widgets/controls",
      "_model_module_version": "1.5.0",
      "_model_name": "ButtonStyleModel",
      "_view_count": null,
      "_view_module": "@jupyter-widgets/base",
      "_view_module_version": "1.2.0",
      "_view_name": "StyleView",
      "button_color": null,
      "font_weight": ""
     }
    },
    "db8aa5f25bb7467e9ea1d31d3b33e666": {
     "model_module": "@jupyter-widgets/base",
     "model_name": "LayoutModel",
     "state": {
      "_model_module": "@jupyter-widgets/base",
      "_model_module_version": "1.2.0",
      "_model_name": "LayoutModel",
      "_view_count": null,
      "_view_module": "@jupyter-widgets/base",
      "_view_module_version": "1.2.0",
      "_view_name": "LayoutView",
      "align_content": null,
      "align_items": null,
      "align_self": null,
      "border": null,
      "bottom": null,
      "display": null,
      "flex": null,
      "flex_flow": null,
      "grid_area": null,
      "grid_auto_columns": null,
      "grid_auto_flow": null,
      "grid_auto_rows": null,
      "grid_column": null,
      "grid_gap": null,
      "grid_row": null,
      "grid_template_areas": null,
      "grid_template_columns": null,
      "grid_template_rows": null,
      "height": null,
      "justify_content": null,
      "justify_items": null,
      "left": null,
      "margin": null,
      "max_height": null,
      "max_width": null,
      "min_height": null,
      "min_width": null,
      "object_fit": null,
      "object_position": null,
      "order": null,
      "overflow": null,
      "overflow_x": null,
      "overflow_y": null,
      "padding": null,
      "right": null,
      "top": null,
      "visibility": null,
      "width": null
     }
    },
    "e9b2e24facce43359dfb257b5ceef80c": {
     "model_module": "@jupyter-widgets/controls",
     "model_name": "DescriptionStyleModel",
     "state": {
      "_model_module": "@jupyter-widgets/controls",
      "_model_module_version": "1.5.0",
      "_model_name": "DescriptionStyleModel",
      "_view_count": null,
      "_view_module": "@jupyter-widgets/base",
      "_view_module_version": "1.2.0",
      "_view_name": "StyleView",
      "description_width": ""
     }
    },
    "f10a3f774ff5434c95b9fcb38275f6bd": {
     "model_module": "@jupyter-widgets/base",
     "model_name": "LayoutModel",
     "state": {
      "_model_module": "@jupyter-widgets/base",
      "_model_module_version": "1.2.0",
      "_model_name": "LayoutModel",
      "_view_count": null,
      "_view_module": "@jupyter-widgets/base",
      "_view_module_version": "1.2.0",
      "_view_name": "LayoutView",
      "align_content": null,
      "align_items": null,
      "align_self": null,
      "border": null,
      "bottom": null,
      "display": null,
      "flex": null,
      "flex_flow": null,
      "grid_area": null,
      "grid_auto_columns": null,
      "grid_auto_flow": null,
      "grid_auto_rows": null,
      "grid_column": null,
      "grid_gap": null,
      "grid_row": null,
      "grid_template_areas": null,
      "grid_template_columns": null,
      "grid_template_rows": null,
      "height": null,
      "justify_content": null,
      "justify_items": null,
      "left": null,
      "margin": null,
      "max_height": null,
      "max_width": null,
      "min_height": null,
      "min_width": null,
      "object_fit": null,
      "object_position": null,
      "order": null,
      "overflow": null,
      "overflow_x": null,
      "overflow_y": null,
      "padding": null,
      "right": null,
      "top": null,
      "visibility": null,
      "width": null
     }
    }
   }
  }
 },
 "nbformat": 4,
 "nbformat_minor": 1
}
